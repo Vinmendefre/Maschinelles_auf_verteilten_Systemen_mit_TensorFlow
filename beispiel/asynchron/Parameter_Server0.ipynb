{
 "cells": [
  {
   "cell_type": "code",
   "execution_count": 1,
   "id": "f2322690-f22b-4ea5-ac3d-cba4acbab112",
   "metadata": {
    "tags": []
   },
   "outputs": [],
   "source": [
    "import tensorflow as tf\n",
    "import os\n",
    "import json"
   ]
  },
  {
   "cell_type": "code",
   "execution_count": null,
   "id": "daeb0103-923b-4561-b164-3df1a6c7c112",
   "metadata": {},
   "outputs": [],
   "source": [
    "os.environ['TF_CONFIG'] = json.dumps(\n",
    "{\n",
    "  \"cluster\": {\n",
    "    \"coordinator\": [\"192.168.2.1:2223\"],\n",
    "    \"ps\": [\"192.168.2.2:2223\"],\n",
    "    \"worker\": [\"192.168.2.3:2223\", \"192.168.2.4:2223\"]\n",
    "  },\n",
    "  \"task\": {\n",
    "    \"type\": \"ps\",\n",
    "    \"index\": 0\n",
    "  }\n",
    "})\n",
    "\n",
    "\n",
    "# Create a TensorFlow ClusterSpec\n",
    "cluster_spec = tf.train.ClusterSpec({\n",
    "    \"coordinator\": [\"192.168.2.1:2223\"],\n",
    "    \"ps\": [\"192.168.2.2:2223\"],\n",
    "    \"worker\": [\"192.168.2.3:2223\", \"192.168.2.4:2223\"]\n",
    "})\n",
    "# Start a TensorFlow server\n",
    "server = tf.distribute.Server(cluster_spec, job_name=\"ps\", task_index=0, protocol=\"grpc\", start=True)\n",
    "server.join()"
   ]
  }
 ],
 "metadata": {
  "kernelspec": {
   "display_name": "Python 3 (ipykernel)",
   "language": "python",
   "name": "python3"
  },
  "language_info": {
   "codemirror_mode": {
    "name": "ipython",
    "version": 3
   },
   "file_extension": ".py",
   "mimetype": "text/x-python",
   "name": "python",
   "nbconvert_exporter": "python",
   "pygments_lexer": "ipython3",
   "version": "3.9.16"
  }
 },
 "nbformat": 4,
 "nbformat_minor": 5
}