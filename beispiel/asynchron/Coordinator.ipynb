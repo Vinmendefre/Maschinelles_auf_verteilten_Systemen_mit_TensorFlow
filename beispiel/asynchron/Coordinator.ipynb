{
 "cells": [
  {
   "cell_type": "code",
   "execution_count": null,
   "outputs": [],
   "source": [],
   "metadata": {
    "collapsed": false
   }
  },
  {
   "cell_type": "code",
   "execution_count": null,
   "id": "47221f78-ee18-4888-b6e2-7bf234a2eaa0",
   "metadata": {},
   "outputs": [],
   "source": [
    "import tensorflow as tf\n",
    "import os\n",
    "import json"
   ]
  },
  {
   "cell_type": "code",
   "execution_count": null,
   "id": "ff869a12-6d46-4862-91b5-d40653c08bb4",
   "metadata": {
    "tags": []
   },
   "outputs": [],
   "source": [
    "os.environ['TF_CONFIG'] = json.dumps(\n",
    "{\n",
    "  \"cluster\": {\n",
    "    \"coordinator\": [\"192.168.2.1:2223\"],\n",
    "    \"ps\": [\"192.168.2.2:2223\"],\n",
    "    \"worker\": [\"192.168.2.3:2223\"]\n",
    "  },\n",
    "  \"task\": {\n",
    "    \"type\": \"coordinator\",\n",
    "    \"index\": 0\n",
    "  }\n",
    "})\n",
    "os.environ[\"grpc_fail_fast\"]=\"use_caller\"\n",
    "\n",
    "# Create a TensorFlow ClusterSpec\n",
    "cluster_spec = tf.train.ClusterSpec({\n",
    "    \"coordinator\": [\"192.168.2.1:2223\"],\n",
    "    \"ps\": [\"192.168.2.2:2223\"],\n",
    "    \"worker\": [\"192.168.2.3:2223\"]\n",
    "})\n",
    "\n",
    "# Start a TensorFlow server\n",
    "resolver = tf.distribute.cluster_resolver.SimpleClusterResolver(cluster_spec=cluster_spec)\n",
    "server = tf.distribute.Server(cluster_spec, job_name=\"coordinator\", task_index=0)"
   ]
  },
  {
   "cell_type": "code",
   "execution_count": null,
   "outputs": [],
   "source": [],
   "metadata": {
    "collapsed": false
   }
  },
  {
   "cell_type": "code",
   "execution_count": null,
   "id": "a0603da6-a806-4e86-8657-5a779def26ac",
   "metadata": {},
   "outputs": [],
   "source": [
    "strategy = tf.distribute.ParameterServerStrategy(resolver)"
   ]
  },
  {
   "cell_type": "code",
   "execution_count": null,
   "id": "b714c154-715c-42af-b094-28375d55b08a",
   "metadata": {},
   "outputs": [],
   "source": [
    "(x_train, y_train), _ = tf.keras.datasets.mnist.load_data()\n",
    "dataset = tf.data.Dataset.from_tensor_slices((x_train, y_train))\n",
    "dataset = tf.data.Dataset.from_tensor_slices((x_train, y_train)).shuffle(10).repeat()\n",
    "dataset = dataset.batch(10)\n",
    "dataset = dataset.prefetch(2)\n",
    "print(\"checkpoint 2\")"
   ]
  },
  {
   "cell_type": "code",
   "execution_count": null,
   "id": "a215280a-4dbc-4ca7-995d-35048d542123",
   "metadata": {},
   "outputs": [],
   "source": [
    "with strategy.scope():\n",
    "    model = tf.keras.Sequential([\n",
    "        tf.keras.layers.Flatten(input_shape=(28, 28)),\n",
    "        tf.keras.layers.Dense(128, activation='relu'),\n",
    "        tf.keras.layers.Dense(10, activation='softmax')\n",
    "        ])  # Make sure the `Model` is created within scope.\n",
    "    \n",
    "model.compile(optimizer=\"adam\", loss=\"sparse_categorical_crossentropy\", steps_per_execution=10)"
   ]
  },
  {
   "cell_type": "code",
   "execution_count": null,
   "id": "bfdd1fec-4ac2-47a5-8eaf-4266c94ac2eb",
   "metadata": {},
   "outputs": [],
   "source": [
    "model.fit(dataset, epochs=20, steps_per_epoch=15)"
   ]
  }
 ],
 "metadata": {
  "kernelspec": {
   "display_name": "PyCharm (Distributed)",
   "language": "python",
   "name": "pycharm-1330f97"
  },
  "language_info": {
   "codemirror_mode": {
    "name": "ipython",
    "version": 3
   },
   "file_extension": ".py",
   "mimetype": "text/x-python",
   "name": "python",
   "nbconvert_exporter": "python",
   "pygments_lexer": "ipython3",
   "version": "3.9.16"
  }
 },
 "nbformat": 4,
 "nbformat_minor": 5
}