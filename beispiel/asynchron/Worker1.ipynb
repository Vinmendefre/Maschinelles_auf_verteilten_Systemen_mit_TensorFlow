{
 "cells": [
  {
   "cell_type": "code",
   "execution_count": null,
   "metadata": {
    "collapsed": true
   },
   "outputs": [],
   "source": []
  },
  {
   "cell_type": "code",
   "execution_count": null,
   "outputs": [],
   "source": [
    "os.environ['TF_CONFIG'] = json.dumps(\n",
    "{\n",
    "  \"cluster\": {\n",
    "    \"coordinator\": [\"192.168.2.1:2223\"],\n",
    "    \"ps\": [\"192.168.2.2:2223\"],\n",
    "    \"worker\": [\"192.168.2.3:2223\", \"192.168.2.4:2223\"]\n",
    "  },\n",
    "  \"task\": {\n",
    "    \"type\": \"worker\",\n",
    "    \"index\": 1\n",
    "  }\n",
    "})\n",
    "\n",
    "# Create a TensorFlow ClusterSpec\n",
    "cluster_spec = tf.train.ClusterSpec({\n",
    "    \"coordinator\": [\"192.168.2.1:2223\"],\n",
    "    \"ps\": [\"192.168.2.2:2223\"],\n",
    "    \"worker\": [\"192.168.2.3:2223\", \"192.168.2.4:2223\"]\n",
    "})\n",
    "# Start a TensorFlow server\n",
    "server = tf.distribute.Server(cluster_spec, job_name=\"worker\", task_index=1)\n",
    "server.join()"
   ],
   "metadata": {
    "collapsed": false,
    "pycharm": {
     "name": "#%%\n"
    }
   }
  }
 ],
 "metadata": {
  "kernelspec": {
   "display_name": "Python 3",
   "language": "python",
   "name": "python3"
  },
  "language_info": {
   "codemirror_mode": {
    "name": "ipython",
    "version": 2
   },
   "file_extension": ".py",
   "mimetype": "text/x-python",
   "name": "python",
   "nbconvert_exporter": "python",
   "pygments_lexer": "ipython2",
   "version": "2.7.6"
  }
 },
 "nbformat": 4,
 "nbformat_minor": 0
}