{
 "cells": [
  {
   "cell_type": "markdown",
   "source": [
    "## Make all necessary imports"
   ],
   "metadata": {
    "collapsed": false
   }
  },
  {
   "cell_type": "code",
   "execution_count": null,
   "metadata": {
    "collapsed": true
   },
   "outputs": [],
   "source": [
    "import sagemaker\n",
    "from sagemaker.tensorflow import TensorFlow\n",
    "import os\n",
    "from sagemaker.debugger import TensorBoardOutputConfig\n",
    "from datetime import datetime"
   ]
  },
  {
   "cell_type": "markdown",
   "source": [
    "## Setup AWS General ressources"
   ],
   "metadata": {
    "collapsed": false
   }
  },
  {
   "cell_type": "code",
   "execution_count": null,
   "outputs": [],
   "source": [
    "role = 'aws-role'\n",
    "sagemaker_session = sagemaker.Session()\n",
    "region = sagemaker_session.boto_session.region_name"
   ],
   "metadata": {
    "collapsed": false
   }
  },
  {
   "cell_type": "markdown",
   "source": [
    "## Set up variables"
   ],
   "metadata": {
    "collapsed": false
   }
  },
  {
   "cell_type": "code",
   "execution_count": null,
   "outputs": [],
   "source": [
    "date = datetime.now().strftime(\"%y%m%d-%H%M%S\")\n",
    "epochs = 5\n",
    "instance_count = 1\n",
    "entry_point = 'train.py'\n",
    "device = 'gpu'\n",
    "\n",
    "s3_uri_model = 's3://16062023-sagemaker-bucket-01/models/'\n",
    "s3_uri_training_data = 's3://16062023-sagemaker-bucket-01/datasets/'\n",
    "s3_uri = 's3://16062023-sagemaker-bucket-01'\n",
    "input_channels = { 'train' : 's3://16062023-sagemaker-bucket-01/datasets/'} # put the S3 URI for the datasets to be loaded here\n",
    "\n",
    "\n",
    "instance_type = \"ml.c4.xlarge\" # choose instance\n",
    "\n",
    "job_name = '{}-TensorFlow-Mnist-data-loading-{}-{}-{}-{}e'.format(\n",
    "    date,\n",
    "    instance_count,\n",
    "    instance_type.replace('.','-').replace('ml-', ''),\n",
    "    device,\n",
    "    epochs)"
   ],
   "metadata": {
    "collapsed": false
   }
  },
  {
   "cell_type": "markdown",
   "source": [
    "## Set up Tensorboard"
   ],
   "metadata": {
    "collapsed": false
   }
  },
  {
   "cell_type": "code",
   "execution_count": null,
   "outputs": [],
   "source": [
    "LOG_DIR=\"/opt/ml/output/tensorboard\"\n",
    "\n",
    "output_path = os.path.join(\n",
    "    s3_uri, job_name\n",
    ")\n",
    "\n",
    "tensorboard_output_config = TensorBoardOutputConfig(\n",
    "    s3_output_path=os.path.join(output_path, 'tensorboard'),\n",
    "    container_local_output_path=LOG_DIR\n",
    ")"
   ],
   "metadata": {
    "collapsed": false
   }
  },
  {
   "cell_type": "markdown",
   "source": [
    "## Construct the TensorFlow Estimator"
   ],
   "metadata": {
    "collapsed": false
   }
  },
  {
   "cell_type": "code",
   "execution_count": null,
   "outputs": [],
   "source": [
    "estimator = TensorFlow(entry_point='train.py',\n",
    "                      role=role,\n",
    "                      instance_count=instance_count,\n",
    "                      instance_type=instance_type,\n",
    "                      sagemaker_session=sagemaker_session,\n",
    "                      framework_version=\"2.12\",\n",
    "                      py_version=\"py310\",\n",
    "                      model_dir=s3_uri_model,\n",
    "                      tensorboard_output_config=tensorboard_output_config,\n",
    "                      hyperparameters={\n",
    "                          'epochs': epochs\n",
    "                      },\n",
    "                      distribution={\"parameter_server\": {\"enabled\": True}},  #choose distribution strategy if necessary\n",
    "                      script_mode=False)\n"
   ],
   "metadata": {
    "collapsed": false
   }
  },
  {
   "cell_type": "markdown",
   "source": [
    "## Start the training Job"
   ],
   "metadata": {
    "collapsed": false
   }
  },
  {
   "cell_type": "code",
   "execution_count": null,
   "outputs": [],
   "source": [
    "estimator.fit(inputs=input_channels, wait=False,  # True makes notebook wait and logs output in real time\n",
    "              job_name=job_name)"
   ],
   "metadata": {
    "collapsed": false
   }
  }
 ],
 "metadata": {
  "kernelspec": {
   "display_name": "Python 3",
   "language": "python",
   "name": "python3"
  },
  "language_info": {
   "codemirror_mode": {
    "name": "ipython",
    "version": 2
   },
   "file_extension": ".py",
   "mimetype": "text/x-python",
   "name": "python",
   "nbconvert_exporter": "python",
   "pygments_lexer": "ipython2",
   "version": "2.7.6"
  }
 },
 "nbformat": 4,
 "nbformat_minor": 0
}
