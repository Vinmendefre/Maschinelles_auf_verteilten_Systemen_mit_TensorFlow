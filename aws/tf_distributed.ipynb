{
 "cells": [
  {
   "cell_type": "code",
   "execution_count": null,
   "metadata": {
    "collapsed": true
   },
   "outputs": [],
   "source": [
    "import sagemaker\n",
    "from sagemaker import get_execution_role\n",
    "from sagemaker.tensorflow import TensorFlow\n",
    "import os\n",
    "from sagemaker.debugger import TensorBoardOutputConfig\n",
    "import boto3\n",
    "from sagemaker.inputs import FileSystemInput\n",
    "from datetime import datetime"
   ]
  },
  {
   "cell_type": "markdown",
   "source": [
    "## Setup AWS General ressources"
   ],
   "metadata": {
    "collapsed": false
   }
  },
  {
   "cell_type": "code",
   "execution_count": null,
   "outputs": [],
   "source": [
    "role = 'arn:aws:iam::427352492539:role/SageMaker-execution-role'\n",
    "#bucket = sagemaker_session.default_bucket()\n",
    "sagemaker_session = sagemaker.Session()\n",
    "region = sagemaker_session.boto_session.region_name\n",
    "client = boto3.client(\"sts\")\n",
    "account = client.get_caller_identity()[\"Account\"]"
   ],
   "metadata": {
    "collapsed": false
   }
  },
  {
   "cell_type": "markdown",
   "source": [
    "## Set up FSx"
   ],
   "metadata": {
    "collapsed": false
   }
  },
  {
   "cell_type": "code",
   "execution_count": null,
   "outputs": [],
   "source": [
    "subnets = [\"subnet-00a29ff9a8e0d9f80\"]\n",
    "file_system_id = 'fs-06263091c52ae2e8d'\n",
    "\n",
    "\n",
    "file_system_directory_path = \"/ctx6hbmv/datasets\"  # highest directory must be root path, followed by local FSx Path\n",
    "file_system_access_mode = \"rw\"\n",
    "file_system_type = \"FSxLustre\"\n",
    "train_fs = FileSystemInput(\n",
    "    file_system_id=file_system_id,\n",
    "    file_system_type=file_system_type,\n",
    "    directory_path=file_system_directory_path,\n",
    "    file_system_access_mode=file_system_access_mode,\n",
    ")\n",
    "security_group_ids = [\n",
    "    \"sg-04c12342ca0d49fd7\"\n",
    "]\n",
    "data_channels = {\"train\": train_fs}"
   ],
   "metadata": {
    "collapsed": false
   }
  },
  {
   "cell_type": "markdown",
   "source": [
    "## Set up variables"
   ],
   "metadata": {
    "collapsed": false
   }
  },
  {
   "cell_type": "code",
   "execution_count": null,
   "outputs": [],
   "source": [
    "date = datetime.now().strftime(\"%y%m%d-%H%M%S\")\n",
    "epochs = 5\n",
    "instance_count = 1\n",
    "entry_point = 'train.py'\n",
    "device = 'gpu'\n",
    "\n",
    "s3_uri_model = 's3://16062023-sagemaker-bucket-01/models/'\n",
    "s3_uri_training_data = 's3://16062023-sagemaker-bucket-01/datasets/'\n",
    "s3_uri = 's3://16062023-sagemaker-bucket-01'\n",
    "\n",
    "instance_type = \"ml.c4.xlarge\" # choose instance\n",
    "\n",
    "image_uri_cpu='763104351884.dkr.ecr.{}.amazonaws.com/tensorflow-training:2.3.1-cpu-py37-ubuntu18.04'.format(region)\n",
    "\n",
    "job_name = '{}-TensorFlow-Mnist-data-loading-{}-{}-{}-{}e'.format(\n",
    "    instance_count,\n",
    "    date,\n",
    "    instance_type.replace('.','-').replace('ml-', ''),\n",
    "    device,\n",
    "    epochs)"
   ],
   "metadata": {
    "collapsed": false
   }
  },
  {
   "cell_type": "markdown",
   "source": [
    "## Set up Tensorboard"
   ],
   "metadata": {
    "collapsed": false
   }
  },
  {
   "cell_type": "code",
   "execution_count": null,
   "outputs": [],
   "source": [
    "LOG_DIR=\"/opt/ml/output/tensorboard\"\n",
    "\n",
    "output_path = os.path.join(\n",
    "    s3_uri, job_name\n",
    ")\n",
    "\n",
    "tensorboard_output_config = TensorBoardOutputConfig(\n",
    "    s3_output_path=os.path.join(output_path, 'tensorboard'),\n",
    "    container_local_output_path=LOG_DIR\n",
    ")"
   ],
   "metadata": {
    "collapsed": false
   }
  },
  {
   "cell_type": "markdown",
   "source": [
    "## Construct the TensorFlow Estimator"
   ],
   "metadata": {
    "collapsed": false
   }
  },
  {
   "cell_type": "code",
   "execution_count": null,
   "outputs": [],
   "source": [
    "estimator = TensorFlow(entry_point='train.py',\n",
    "                      role=role,\n",
    "                      instance_count=instance_count,\n",
    "                      source_dir=\".\",\n",
    "                      instance_type=instance_type,\n",
    "                      image_uri=image_uri_cpu,\n",
    "                      sagemaker_session=sagemaker_session,\n",
    "                      framework_version=\"2.12\",\n",
    "                      py_version=\"py39\",\n",
    "                      subnets=subnets,\n",
    "                      security_group_ids=security_group_ids,\n",
    "                      model_dir=s3_uri_model,\n",
    "                      tensorboard_output_config=tensorboard_output_config,\n",
    "                      hyperparameters={\n",
    "                          'epochs': epochs\n",
    "                      },\n",
    "                      script_mode=False)"
   ],
   "metadata": {
    "collapsed": false
   }
  },
  {
   "cell_type": "markdown",
   "source": [
    "## Start the training Job"
   ],
   "metadata": {
    "collapsed": false
   }
  },
  {
   "cell_type": "code",
   "execution_count": null,
   "outputs": [],
   "source": [
    "estimator.fit(inputs=data_channels, wait=False,  # True makes notebook wait and logs output in real time\n",
    "              job_name=job_name)"
   ],
   "metadata": {
    "collapsed": false
   }
  }
 ],
 "metadata": {
  "kernelspec": {
   "display_name": "Python 3",
   "language": "python",
   "name": "python3"
  },
  "language_info": {
   "codemirror_mode": {
    "name": "ipython",
    "version": 2
   },
   "file_extension": ".py",
   "mimetype": "text/x-python",
   "name": "python",
   "nbconvert_exporter": "python",
   "pygments_lexer": "ipython2",
   "version": "2.7.6"
  }
 },
 "nbformat": 4,
 "nbformat_minor": 0
}
