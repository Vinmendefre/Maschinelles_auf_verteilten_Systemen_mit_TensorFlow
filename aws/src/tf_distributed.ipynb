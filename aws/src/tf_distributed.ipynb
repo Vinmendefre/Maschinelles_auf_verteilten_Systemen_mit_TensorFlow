{
 "cells": [
  {
   "cell_type": "markdown",
   "source": [
    "## Make all necessary imports"
   ],
   "metadata": {
    "collapsed": false
   }
  },
  {
   "cell_type": "code",
   "execution_count": null,
   "metadata": {
    "collapsed": true,
    "pycharm": {
     "is_executing": true
    }
   },
   "outputs": [],
   "source": [
    "import sagemaker\n",
    "from sagemaker.tensorflow import TensorFlow\n",
    "import os\n",
    "from sagemaker.debugger import TensorBoardOutputConfig\n",
    "from datetime import datetime"
   ]
  },
  {
   "cell_type": "markdown",
   "source": [
    "## Setup AWS General ressources"
   ],
   "metadata": {
    "collapsed": false
   }
  },
  {
   "cell_type": "code",
   "execution_count": null,
   "outputs": [],
   "source": [
    "role = 'aws-role'\n",
    "sagemaker_session = sagemaker.Session()\n",
    "region = sagemaker_session.boto_session.region_name"
   ],
   "metadata": {
    "collapsed": false
   }
  },
  {
   "cell_type": "markdown",
   "source": [
    "## Set up variables"
   ],
   "metadata": {
    "collapsed": false
   }
  },
  {
   "cell_type": "code",
   "execution_count": null,
   "outputs": [],
   "source": [
    "date = datetime.now().strftime(\"%y%m%d-%H%M%S\")\n",
    "epochs = 10\n",
    "instance_count = 1\n",
    "entry_point = 'train.py'\n",
    "device = 'cpu'\n",
    "batch_size = 128\n",
    "learning_rate = 0.001\n",
    "\n",
    "s3_uri_model = 's3://path-to-s3-bucket/models/'\n",
    "s3_uri_training_data = 's3://path-to-s3-bucket/datasets/datapath/'\n",
    "s3_uri = 's3://path-to-s3-bucket/'\n",
    "\n",
    "instance_type = \"ml.m5.4xlarge\"\n",
    "\n",
    "input_channels = { 'train' : s3_uri_training_data} # put the S3 URI for the datasets to be loaded here\n",
    "\n",
    "job_name = 'Non-dist-33000-artType-{}i-{}b-{}-{}e-{}'.format(\n",
    "    instance_count,\n",
    "    batch_size,\n",
    "    instance_type.replace('.','-').replace('ml-', ''),\n",
    "    epochs,\n",
    "    date)"
   ],
   "metadata": {
    "collapsed": false
   }
  },
  {
   "cell_type": "markdown",
   "source": [
    "## Set up Tensorboard and metrics"
   ],
   "metadata": {
    "collapsed": false
   }
  },
  {
   "cell_type": "code",
   "execution_count": null,
   "outputs": [],
   "source": [
    "LOG_DIR=\"/opt/ml/output/tensorboard\"\n",
    "\n",
    "output_path = os.path.join(\n",
    "    s3_uri, \"tensorboard-logs\", job_name\n",
    ")\n",
    "\n",
    "tensorboard_output_config = TensorBoardOutputConfig(\n",
    "    s3_output_path=os.path.join(output_path, 'tensorboard'),\n",
    "    container_local_output_path=LOG_DIR\n",
    ")\n",
    "\n",
    "metric_definitions = [\n",
    "    {\"Name\": \"train:loss\", \"Regex\": \".*loss: ([0-9\\\\.]+) - accuracy: [0-9\\\\.]+.*\"},\n",
    "    {\"Name\": \"train:accuracy\", \"Regex\": \".*loss: [0-9\\\\.]+ - accuracy: ([0-9\\\\.]+).*\"},\n",
    "    {\n",
    "        \"Name\": \"validation:accuracy\",\n",
    "        \"Regex\": \".*step - loss: [0-9\\\\.]+ - accuracy: [0-9\\\\.]+ - val_loss: [0-9\\\\.]+ - val_accuracy: ([0-9\\\\.]+).*\",\n",
    "    },\n",
    "    {\n",
    "        \"Name\": \"validation:loss\",\n",
    "        \"Regex\": \".*step - loss: [0-9\\\\.]+ - accuracy: [0-9\\\\.]+ - val_loss: ([0-9\\\\.]+) - val_accuracy: [0-9\\\\.]+.*\",\n",
    "    },\n",
    "    {\n",
    "        \"Name\": \"sec/sample\",\n",
    "        \"Regex\": \".* - \\d+s (\\d+)[mu]s/sample - loss: [0-9\\\\.]+ - accuracy: [0-9\\\\.]+ - val_loss: [0-9\\\\.]+ - val_accuracy: [0-9\\\\.]+\",\n",
    "    },\n",
    "]"
   ],
   "metadata": {
    "collapsed": false
   }
  },
  {
   "cell_type": "markdown",
   "source": [
    "## Construct the TensorFlow Estimator and start the training job for non distributed training"
   ],
   "metadata": {
    "collapsed": false
   }
  },
  {
   "cell_type": "code",
   "execution_count": null,
   "outputs": [],
   "source": [
    "estimator = TensorFlow(entry_point='train.py',\n",
    "                      role=role,\n",
    "                      instance_count=instance_count,\n",
    "                      instance_type=instance_type,\n",
    "                      sagemaker_session=sagemaker_session,\n",
    "                      framework_version=\"2.12\",\n",
    "                      py_version=\"py310\",\n",
    "                      model_dir=s3_uri_model,\n",
    "                      tensorboard_output_config=tensorboard_output_config,\n",
    "                      hyperparameters={\n",
    "                          'epochs': epochs\n",
    "                      },\n",
    "                      script_mode=False)\n",
    "estimator.fit(inputs=input_channels, wait=False,\n",
    "              job_name=job_name)"
   ],
   "metadata": {
    "collapsed": false,
    "pycharm": {
     "is_executing": true
    }
   }
  },
  {
   "cell_type": "markdown",
   "source": [
    "## Construct the TensorFlow Estimator and start the training job for parameter server strategy training"
   ],
   "metadata": {
    "collapsed": false
   }
  },
  {
   "cell_type": "code",
   "execution_count": null,
   "outputs": [],
   "source": [
    "estimator = TensorFlow(entry_point='train_PS_chunking.py',\n",
    "                      role=role,\n",
    "                      instance_count=instance_count,\n",
    "                      instance_type=instance_type,\n",
    "                      sagemaker_session=sagemaker_session,\n",
    "                      framework_version=\"2.12\",\n",
    "                      py_version=\"py310\",\n",
    "                      model_dir=s3_uri_model,\n",
    "                      tensorboard_output_config=tensorboard_output_config,\n",
    "                      hyperparameters={\n",
    "                          'epochs': epochs,\n",
    "                          'learning_rate': learning_rate,\n",
    "                          'batch_size' : batch_size\n",
    "                      },\n",
    "                      metric_definitions=metric_definitions,\n",
    "                      distribution={\"parameter_server\": {\"enabled\": True}},\n",
    "                      script_mode=False)\n",
    "estimator.fit(inputs = input_channels ,wait=False, # True makes notebook wait and logs output in real time\n",
    "              job_name=job_name)"
   ],
   "metadata": {
    "collapsed": false,
    "pycharm": {
     "is_executing": true
    }
   }
  },
  {
   "cell_type": "markdown",
   "source": [
    "## Construct the TensorFlow Estimator and start the training job for multi worker mirrored strategy training"
   ],
   "metadata": {
    "collapsed": false
   }
  },
  {
   "cell_type": "code",
   "execution_count": null,
   "outputs": [],
   "source": [
    "batch_size = batch_size * instance_count\n",
    "estimator = TensorFlow(entry_point='train_MWM.py',\n",
    "                      role=role,\n",
    "                      instance_count=instance_count,\n",
    "                      instance_type=instance_type,\n",
    "                      sagemaker_session=sagemaker_session,\n",
    "                      framework_version=\"2.12\",\n",
    "                      py_version=\"py310\",\n",
    "                      model_dir=s3_uri_model,\n",
    "                      tensorboard_output_config=tensorboard_output_config,\n",
    "                      hyperparameters={\n",
    "                          'epochs': epochs,\n",
    "                          'learning_rate': learning_rate,\n",
    "                          'batch_size' : batch_size\n",
    "                      },\n",
    "                      metric_definitions=metric_definitions,\n",
    "                      distribution= {\"multi_worker_mirrored_strategy\": {\"enabled\": True}},\n",
    "                      script_mode=False)\n",
    "estimator.fit(inputs = input_channels ,wait=False, # True makes notebook wait and logs output in real time\n",
    "              job_name=job_name)"
   ],
   "metadata": {
    "collapsed": false
   }
  }
 ],
 "metadata": {
  "kernelspec": {
   "display_name": "Python 3",
   "language": "python",
   "name": "python3"
  },
  "language_info": {
   "codemirror_mode": {
    "name": "ipython",
    "version": 2
   },
   "file_extension": ".py",
   "mimetype": "text/x-python",
   "name": "python",
   "nbconvert_exporter": "python",
   "pygments_lexer": "ipython2",
   "version": "2.7.6"
  }
 },
 "nbformat": 4,
 "nbformat_minor": 0
}
